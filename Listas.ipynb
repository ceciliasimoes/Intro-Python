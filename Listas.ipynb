{
  "nbformat": 4,
  "nbformat_minor": 0,
  "metadata": {
    "colab": {
      "provenance": [],
      "authorship_tag": "ABX9TyMl5Q15az4wMVbwBieCsHKe",
      "include_colab_link": true
    },
    "kernelspec": {
      "name": "python3",
      "display_name": "Python 3"
    },
    "language_info": {
      "name": "python"
    }
  },
  "cells": [
    {
      "cell_type": "markdown",
      "metadata": {
        "id": "view-in-github",
        "colab_type": "text"
      },
      "source": [
        "<a href=\"https://colab.research.google.com/github/ceciliasimoes/Intro-Python/blob/main/Listas.ipynb\" target=\"_parent\"><img src=\"https://colab.research.google.com/assets/colab-badge.svg\" alt=\"Open In Colab\"/></a>"
      ]
    },
    {
      "cell_type": "markdown",
      "source": [
        "******LISTA ESTRUTURA DE REPETIÇÕES******"
      ],
      "metadata": {
        "id": "7_wkwxETmyeN"
      }
    },
    {
      "cell_type": "markdown",
      "source": [
        "1) Desenvolver um algoritmo que efetue a soma de todos os números ímpares que são múltiplos de\n",
        "três e que se encontram no conjunto dos números de 1 até 500."
      ],
      "metadata": {
        "id": "GPVA59tcmOwx"
      }
    },
    {
      "cell_type": "code",
      "source": [
        "number = 0\n",
        "for i in range (1,50):\n",
        "    if i % 3 == 0 and i % 2 != 0:\n",
        "        number += i\n",
        "print(number)"
      ],
      "metadata": {
        "colab": {
          "base_uri": "https://localhost:8080/"
        },
        "id": "ydjr9z-To-vS",
        "outputId": "a7d95867-49e8-4237-8293-b0e761da835c"
      },
      "execution_count": null,
      "outputs": [
        {
          "output_type": "stream",
          "name": "stdout",
          "text": [
            "20667\n"
          ]
        }
      ]
    },
    {
      "cell_type": "markdown",
      "source": [
        "2) Desenvolver um algoritmo que leia a altura de 15 pessoas. Este programa deverá calcular e\n",
        "mostrar :\n",
        "a. A menor altura do grupo;\n",
        "b. A maior altura do grupo;"
      ],
      "metadata": {
        "id": "hNAWYQzamUrp"
      }
    },
    {
      "cell_type": "code",
      "source": [
        "alturas = [];\n",
        "for i in range (1,16):\n",
        "    altura =  float(input(\"Adicione a altura do 4\" + str(i) + \"º aluno: \"))\n",
        "    alturas.append(altura)\n",
        "\n",
        "maior = alturas[0]\n",
        "for altura in alturas:\n",
        "    if altura > maior:\n",
        "        maior = altura\n",
        "\n",
        "menor = min(alturas)\n",
        "\n",
        "print(\"O maior aluno mede : \" + str(maior))\n",
        "print(\"O menor aluno mede : \" + str(menor))"
      ],
      "metadata": {
        "id": "SPlIFG3Sr1Ra"
      },
      "execution_count": null,
      "outputs": []
    },
    {
      "cell_type": "markdown",
      "source": [
        "3) Desenvolver um algoritmo que leia um número não determinado de valores e calcule e escreva a\n",
        "média aritmética dos valores lidos, a quantidade de valores positivos, a quantidade de valores\n",
        "negativos e o percentual de valores negativos e positivos."
      ],
      "metadata": {
        "id": "Zg92ygmDmXJz"
      }
    },
    {
      "cell_type": "code",
      "source": [
        "continuar = True\n",
        "numeros = []\n",
        "negativos = []\n",
        "positivos = []\n",
        "\n",
        "while(continuar):\n",
        "  numero = int(input(\"Digite um número: \"))\n",
        "  numeros.append(numero)\n",
        "  resposta = input(\"Deseja adicionar mais um? (s/n) : \").lower()\n",
        "  if resposta == \"n\":\n",
        "    continuar = False\n",
        "\n",
        "media = sum(numeros) / len(numeros)\n",
        "for numero in numeros:\n",
        "  if numero < 0:\n",
        "    negativos.append(numero)\n",
        "  elif numero > 0:\n",
        "    positivos.append(numero)\n",
        "\n",
        "porcentagem_negativos = (len(negativos) / len(numeros)) * 100\n",
        "porcentagem_positivos = (len(positivos) / len(numeros)) * 100\n",
        "\n",
        "print(\"A média aritmétrica dos números é: \" + str(media))\n",
        "print(\"A quantidade de números negativos é: \" + str(len(negativos)))\n",
        "print(\"A quantidade de números positivos é: \" + str(len(positivos)))\n",
        "print(f\"A porcentagem de números negativos é: {porcentagem_negativos:.2f}%\")\n",
        "print(f\"A porcentagem de números positivos é: {porcentagem_positivos:.2f}%\")\n"
      ],
      "metadata": {
        "colab": {
          "base_uri": "https://localhost:8080/"
        },
        "id": "0FNuhu2HslBH",
        "outputId": "262c6d21-2736-4514-93ec-4de163691803"
      },
      "execution_count": null,
      "outputs": [
        {
          "output_type": "stream",
          "name": "stdout",
          "text": [
            "Digite um número: 1\n",
            "Deseja adicionar mais um? (s/n) : 1\n",
            "Digite um número: 1\n",
            "Deseja adicionar mais um? (s/n) : 1\n",
            "Digite um número: -2\n",
            "Deseja adicionar mais um? (s/n) : -2\n",
            "Digite um número: -2\n",
            "Deseja adicionar mais um? (s/n) : n\n",
            "A média aritmétrica dos números é: -0.5\n",
            "A quantidade de números negativos é: 2\n",
            "A quantidade de números positivos é: 2\n",
            "A porcentagem de números negativos é: 50.00%\n",
            "A porcentagem de números positivos é: 50.00%\n"
          ]
        }
      ]
    },
    {
      "cell_type": "markdown",
      "source": [
        "4) Escrever um algoritmo que leia uma quantidade desconhecida de números e conte quantos deles\n",
        "estão nos seguintes intervalos: [0-25], [26-50], [51-75] e [76-100]. A entrada de dados deve\n",
        "terminar quando for lido um número negativo."
      ],
      "metadata": {
        "id": "FTWDwLeimea7"
      }
    },
    {
      "cell_type": "code",
      "source": [
        "continuar = 1\n",
        "numeros = []\n",
        "n_0_a_25 = []\n",
        "n_26_a_50 = []\n",
        "n_51_a_75 = []\n",
        "n_76_a_100 = []\n",
        "\n",
        "while(continuar):\n",
        "  numero = int(input(\"Digite um número: \"))\n",
        "  numeros.append(numero)\n",
        "  resposta = int(input(\"Deseja adicionar mais um? (digite um número negativo para encerrar) : \"))\n",
        "  if resposta < 0:\n",
        "    continuar = False\n",
        "\n",
        "for numero in numeros:\n",
        "  if numero >= 0 and numero <= 25:\n",
        "    n_0_a_25.append(numero)\n",
        "  elif numero >= 26 and numero <= 50:\n",
        "    n_26_a_50.append(numero)\n",
        "  elif numero >= 51 and numero <= 75:\n",
        "    n_51_a_75.append(numero)\n",
        "  elif numero >= 76 and numero <= 100:\n",
        "    n_76_a_100.append(numero)\n",
        "\n",
        "print(\"A quantidade de números inseridos foi: \" + str(len(numeros)))\n",
        "print(\"A quantidade de números entre 0 e 25 foi : \"+ str(len(n_0_a_25)) + \" e eles foram : \" + str(n_0_a_25))\n",
        "print(\"A quantidade de números entre 26 e 50 foi : \"+ str(len(n_26_a_50)) + \" e eles foram : \" + str(n_26_a_50))\n",
        "print(\"A quantidade de números entre 51 e 75 foi : \"+ str(len(n_51_a_75)) + \" e eles foram : \" + str(n_51_a_75))\n",
        "print(\"A quantidade de números entre 76 e 100 foi : \"+ str(len(n_76_a_100)) + \" e eles foram : \" + str(n_76_a_100))\n"
      ],
      "metadata": {
        "colab": {
          "base_uri": "https://localhost:8080/"
        },
        "id": "SRwMWJySwoVI",
        "outputId": "a05bb446-48e1-45b4-b7ea-7bcbc4edc98a"
      },
      "execution_count": null,
      "outputs": [
        {
          "output_type": "stream",
          "name": "stdout",
          "text": [
            "Digite um número: 1\n",
            "Deseja adicionar mais um? (digite um número negativo para encerrar) : 2\n",
            "Digite um número: 2\n",
            "Deseja adicionar mais um? (digite um número negativo para encerrar) : 2\n",
            "Digite um número: 35\n",
            "Deseja adicionar mais um? (digite um número negativo para encerrar) : 2\n",
            "Digite um número: 55\n",
            "Deseja adicionar mais um? (digite um número negativo para encerrar) : 4\n",
            "Digite um número: 76\n",
            "Deseja adicionar mais um? (digite um número negativo para encerrar) : -1\n",
            "A quantidade de números inseridos foi: 5\n",
            "A quantidade de números entre 0 e 25 foi : 2 e eles foram : [1, 2]\n",
            "A quantidade de números entre 26 e 50 foi : 1 e eles foram : [35]\n",
            "A quantidade de números entre 51 e 75 foi : 1 e eles foram : [55]\n",
            "A quantidade de números entre 76 e 100 foi : 1 e eles foram : [76]\n"
          ]
        }
      ]
    },
    {
      "cell_type": "markdown",
      "source": [
        "5) Faça um algoritmo estruturado que leia uma quantidade não determinada de números positivos.\n",
        "Calcule a quantidade de números pares e ímpares, a média de valores pares e a média geral dos\n",
        "números lidos. O número que encerrará a leitura será zero."
      ],
      "metadata": {
        "id": "XF-0n-XImjr6"
      }
    },
    {
      "cell_type": "code",
      "source": [
        "continuar = True\n",
        "numeros = []\n",
        "pares = []\n",
        "impares = []\n",
        "\n",
        "while(continuar):\n",
        "  numero = int(input(\"Digite um número: \"))\n",
        "  if numero < 0:\n",
        "      print(\"Números negativos não são permitidos!\")\n",
        "  else:\n",
        "      numeros.append(numero)\n",
        "  resposta = int(input(\"Deseja adicionar mais um? (insira 0 para encerrar) : \"))\n",
        "  if resposta == 0:\n",
        "    continuar = False\n",
        "\n",
        "media = sum(numeros) / len(numeros)\n",
        "\n",
        "for numero in numeros:\n",
        "  if numero % 2 == 0:\n",
        "    pares.append(numero)\n",
        "  else:\n",
        "    impares.append(numero)\n",
        "\n",
        "if len(pares) > 0:\n",
        "    media_pares = sum(pares) / len(pares)\n",
        "else:\n",
        "    media_pares = 0\n",
        "\n",
        "print(\"A média aritmétrica dos números é: \" + str(media))\n",
        "print(\"A média dos números pares é: \" + str(media_pares))\n",
        "print(\"A quantidade de números pares é: \" + str(len(pares)) + \" ,são eles: \" + str(pares))\n",
        "print(\"A quantidade de números impares é: \" + str(len(impares)) + \" ,são eles: \" + str(impares))\n",
        "\n"
      ],
      "metadata": {
        "colab": {
          "base_uri": "https://localhost:8080/"
        },
        "id": "EG5TRqkrynSo",
        "outputId": "0e4a116c-d7ef-45e7-8a05-def5385720bc"
      },
      "execution_count": null,
      "outputs": [
        {
          "output_type": "stream",
          "name": "stdout",
          "text": [
            "Digite um número: 2\n",
            "Deseja adicionar mais um? (insira 0 para encerrar) : 2\n",
            "Digite um número: 4\n",
            "Deseja adicionar mais um? (insira 0 para encerrar) : 4\n",
            "Digite um número: 1\n",
            "Deseja adicionar mais um? (insira 0 para encerrar) : 1\n",
            "Digite um número: 3\n",
            "Deseja adicionar mais um? (insira 0 para encerrar) : 0\n",
            "A média aritmétrica dos números é: 2.5\n",
            "A quantidade de números pares é: 2 ,são eles: [2, 4]\n",
            "A quantidade de números impares é: 2 ,são eles: [1, 3]\n"
          ]
        }
      ]
    },
    {
      "cell_type": "markdown",
      "source": [
        "6) Escrever um algoritmo que gera e escreve os números ímpares entre 100 e 200."
      ],
      "metadata": {
        "id": "PvEbyNIMmmYy"
      }
    },
    {
      "cell_type": "code",
      "source": [
        "for i in range (100,201):\n",
        "  if i % 2 != 0:\n",
        "    print(i)"
      ],
      "metadata": {
        "colab": {
          "base_uri": "https://localhost:8080/"
        },
        "id": "jyBum2TLynVb",
        "outputId": "3b633d63-2c0b-4470-b9d7-3db3dd43669d"
      },
      "execution_count": null,
      "outputs": [
        {
          "output_type": "stream",
          "name": "stdout",
          "text": [
            "101\n",
            "103\n",
            "105\n",
            "107\n",
            "109\n",
            "111\n",
            "113\n",
            "115\n",
            "117\n",
            "119\n",
            "121\n",
            "123\n",
            "125\n",
            "127\n",
            "129\n",
            "131\n",
            "133\n",
            "135\n",
            "137\n",
            "139\n",
            "141\n",
            "143\n",
            "145\n",
            "147\n",
            "149\n",
            "151\n",
            "153\n",
            "155\n",
            "157\n",
            "159\n",
            "161\n",
            "163\n",
            "165\n",
            "167\n",
            "169\n",
            "171\n",
            "173\n",
            "175\n",
            "177\n",
            "179\n",
            "181\n",
            "183\n",
            "185\n",
            "187\n",
            "189\n",
            "191\n",
            "193\n",
            "195\n",
            "197\n",
            "199\n"
          ]
        }
      ]
    },
    {
      "cell_type": "markdown",
      "source": [
        "7) Escrever um algoritmo que leia um valor para uma variável N de 1 a 10 e calcule a tabuada de\n",
        "N. Mostre a tabuada na forma: 0 x N = 0, 1 x N = 1N, 2 x N = 2N, ..., 10 x N = 10N."
      ],
      "metadata": {
        "id": "uhIc9FljmpFV"
      }
    },
    {
      "cell_type": "code",
      "source": [
        "numero = int(input(\"Digite um número de 1 a 10: \"))\n",
        "if numero < 1 or numero > 10:\n",
        "    print(\"Número inválido!\")\n",
        "else:\n",
        "    for i in range(0, 11):\n",
        "        print(f\"{i} x {numero} = {i * numero}\")"
      ],
      "metadata": {
        "colab": {
          "base_uri": "https://localhost:8080/"
        },
        "id": "7gMnmGwF1ir6",
        "outputId": "1777e263-f16a-4d9e-aaec-d704d7ee480b"
      },
      "execution_count": null,
      "outputs": [
        {
          "output_type": "stream",
          "name": "stdout",
          "text": [
            "Digite um número de 1 a 10: 2\n",
            "0 x 2 = 0\n",
            "1 x 2 = 2\n",
            "2 x 2 = 4\n",
            "3 x 2 = 6\n",
            "4 x 2 = 8\n",
            "5 x 2 = 10\n",
            "6 x 2 = 12\n",
            "7 x 2 = 14\n",
            "8 x 2 = 16\n",
            "9 x 2 = 18\n",
            "10 x 2 = 20\n"
          ]
        }
      ]
    },
    {
      "cell_type": "markdown",
      "source": [
        "8) Escreva um algoritmo que leia um valor inicial A e uma razão R e imprima uma seqüência em\n",
        "P.A. contendo 10 valores.\n"
      ],
      "metadata": {
        "id": "LZOCZ3HqmraU"
      }
    },
    {
      "cell_type": "code",
      "source": [
        "a = int(input(\"Digite o valor inicial da PA: \"))\n",
        "razao = int(input(\"Digite a razão da PA: \"))\n",
        "\n",
        "for i in range(10):\n",
        "    print(a)\n",
        "    a += razao"
      ],
      "metadata": {
        "colab": {
          "base_uri": "https://localhost:8080/"
        },
        "id": "DYp69ryrpNi9",
        "outputId": "d7125dce-de34-4931-f517-371edafff646"
      },
      "execution_count": null,
      "outputs": [
        {
          "output_type": "stream",
          "name": "stdout",
          "text": [
            "Digite o valor inicial da PA: 5\n",
            "Digite a razão da PA: 2\n",
            "5\n",
            "7\n",
            "9\n",
            "11\n",
            "13\n",
            "15\n",
            "17\n",
            "19\n",
            "21\n",
            "23\n"
          ]
        }
      ]
    },
    {
      "cell_type": "markdown",
      "source": [
        "9) Escreva um algoritmo que leia um valor inicial A e uma razão R e imprima uma seqüência em\n",
        "P.G. contendo 10 valores."
      ],
      "metadata": {
        "id": "I4gmCgHpmvZV"
      }
    },
    {
      "cell_type": "code",
      "source": [
        "a = int(input(\"Digite o valor inicial da PG: \"))\n",
        "razao = int(input(\"Digite a razão da PG: \"))\n",
        "\n",
        "for i in range(10):\n",
        "    print(a)\n",
        "    a *= razao"
      ],
      "metadata": {
        "colab": {
          "base_uri": "https://localhost:8080/"
        },
        "id": "031hRb65pOed",
        "outputId": "6dfbff62-8899-4637-bf11-ec800f79097c"
      },
      "execution_count": null,
      "outputs": [
        {
          "output_type": "stream",
          "name": "stdout",
          "text": [
            "Digite o valor inicial da PG: 1\n",
            "Digite a razão da PG: 3\n",
            "1\n",
            "3\n",
            "9\n",
            "27\n",
            "81\n",
            "243\n",
            "729\n",
            "2187\n",
            "6561\n",
            "19683\n"
          ]
        }
      ]
    },
    {
      "cell_type": "markdown",
      "source": [
        "10) Escreva um algoritmo que leia um valor inicial A e imprima a seqüência de valores do cálculo de\n",
        "A! e o seu resultado. Ex: 5! = 5 X 4 X 3 X 2 X 1 = 120"
      ],
      "metadata": {
        "id": "GTfRqDdhmwJ2"
      }
    },
    {
      "cell_type": "code",
      "source": [
        "numero = int(input(\"Digite um número:\"))\n",
        "def fatorial(numero):\n",
        "    if numero == 0:\n",
        "        return 1\n",
        "    else:\n",
        "        return numero * fatorial(numero -1)\n",
        "\n",
        "\n",
        "sequencia = \" X \".join(str(i) for i in range(numero, 0, -1))\n",
        "\n",
        "resultado = fatorial(numero)\n",
        "\n",
        "print(f\"{numero}! = {sequencia} = {resultado}\")\n",
        "\n"
      ],
      "metadata": {
        "colab": {
          "base_uri": "https://localhost:8080/"
        },
        "id": "3Hcyy3OY2YJE",
        "outputId": "e7a5c0ff-c5fb-44de-88c6-850a15e6fec9"
      },
      "execution_count": null,
      "outputs": [
        {
          "output_type": "stream",
          "name": "stdout",
          "text": [
            "Digite um número:5\n",
            "5! = 5 X 4 X 3 X 2 X 1 = 120\n"
          ]
        }
      ]
    },
    {
      "cell_type": "markdown",
      "source": [
        "________________________________________________________________________________________________________________________________________________________________"
      ],
      "metadata": {
        "id": "3sECKAelnNwF"
      }
    },
    {
      "cell_type": "markdown",
      "source": [
        "****** LISTA DE EXERCÍCIOS DE ALGORITMOS CONDICIONAIS******"
      ],
      "metadata": {
        "id": "S4f1TRmSnP2C"
      }
    },
    {
      "cell_type": "markdown",
      "source": [
        "1) Faça um algoritmo que leia os valores A, B, C e imprima na tela se a soma de A + B é menor\n",
        "que C."
      ],
      "metadata": {
        "id": "j98M3c-pnov4"
      }
    },
    {
      "cell_type": "code",
      "source": [
        "a = int(input(\"Digite o valor de A: \"))\n",
        "b = int(input(\"Digite o valor de B: \"))\n",
        "c = int(input(\"Digite o valor de C: \"))\n",
        "\n",
        "soma = a + b\n",
        "\n",
        "if soma < c:\n",
        "    print(f\"A soma de A + B é menor que C, e é igual a {soma}\")\n",
        "else:\n",
        "    print(f\"A soma de A + B é maior que C, e é igual a {soma}\")"
      ],
      "metadata": {
        "colab": {
          "base_uri": "https://localhost:8080/"
        },
        "id": "sQ6RLYkh6yMs",
        "outputId": "ab7d76d1-69f0-40fe-f94c-a2ce6b05927a"
      },
      "execution_count": null,
      "outputs": [
        {
          "output_type": "stream",
          "name": "stdout",
          "text": [
            "Digite o valor de A: 4\n",
            "Digite o valor de B: 2\n",
            "Digite o valor de C: 10\n",
            "A soma de A + B é menor que C, e é igual a 6\n"
          ]
        }
      ]
    },
    {
      "cell_type": "markdown",
      "source": [
        "2) Faça um algoritmo que leia o nome, o sexo e o estado civil de uma pessoa. Caso sexo seja “F” e\n",
        "estado civil seja “CASADA”, solicitar o tempo de casada (anos)."
      ],
      "metadata": {
        "id": "7_7Rf9z1nx48"
      }
    },
    {
      "cell_type": "code",
      "source": [
        "nome = input(\"Digite o nome da pessoa: \")\n",
        "sexo = input(\"Digite o sexo da pessoa (M/F): \").upper()\n",
        "estado_civil = input(\"Digite o estado civil da pessoa como solteiro ou casado (S/C): \").upper()\n",
        "if sexo == \"F\" and estado_civil == \"C\":\n",
        "    tempo_casada = int(input(\"Digite o tempo de casada (em anos): \"))\n",
        "    print(f\"{nome} é casada há {tempo_casada} anos.\")\n",
        "\n",
        "if sexo == \"M\":\n",
        "    sexo = \"masculino\"\n",
        "else:\n",
        "    sexo = \"feminino\"\n",
        "\n",
        "if estado_civil == \"S\":\n",
        "    estado_civil = \"solteiro\"\n",
        "else:\n",
        "    estado_civil = \"casado\"\n",
        "\n",
        "print(f\"{nome} é do sexo {sexo} e está {estado_civil}\")"
      ],
      "metadata": {
        "id": "K6vDoTU27ToW",
        "colab": {
          "base_uri": "https://localhost:8080/"
        },
        "outputId": "0e9d17e4-58b7-4f51-f864-149a05f00950"
      },
      "execution_count": null,
      "outputs": [
        {
          "output_type": "stream",
          "name": "stdout",
          "text": [
            "Digite o nome da pessoa: ana\n",
            "Digite o sexo da pessoa (M/F): f\n",
            "Digite o estado civil da pessoa como solteiro ou casado (S/C): c\n",
            "Digite o tempo de casada (em anos): 3\n",
            "ana é casada há 3 anos.\n"
          ]
        }
      ]
    },
    {
      "cell_type": "markdown",
      "source": [
        "3) Faça um algoritmo para receber um número qualquer e informar na tela se é par ou ímpar."
      ],
      "metadata": {
        "id": "cbhkCMSkn6ki"
      }
    },
    {
      "cell_type": "code",
      "source": [
        "numero = int(input(\"Digite um número: \"))\n",
        "if numero % 2 == 0:\n",
        "    print(f\"{numero} é par.\")\n",
        "else:\n",
        "    print(f\"{numero} é ímpar.\")"
      ],
      "metadata": {
        "id": "b1Q8fEjQZYr2"
      },
      "execution_count": null,
      "outputs": []
    },
    {
      "cell_type": "markdown",
      "source": [
        "4) Faça um algoritmo que leia dois valores inteiros A e B se os valores forem iguais deverá se\n",
        "somar os dois, caso contrário multiplique A por B. Ao final de qualquer um dos cálculos deve-se\n",
        "atribuir o resultado para uma variável C e mostrar seu conteúdo na tela."
      ],
      "metadata": {
        "id": "-Akkjmuan9CF"
      }
    },
    {
      "cell_type": "code",
      "source": [
        "a = int(input(\"Digite o valor de A: \"))\n",
        "b = int(input(\"Digite o valor de B: \"))\n",
        "\n",
        "if a == b:\n",
        "    c = a + b\n",
        "else:\n",
        "    c = a * b\n",
        "\n",
        "print(f\"O valor de C é {c}\")"
      ],
      "metadata": {
        "id": "DmzR69lSZeIf"
      },
      "execution_count": null,
      "outputs": []
    },
    {
      "cell_type": "markdown",
      "source": [
        "5) Encontrar o dobro de um número caso ele seja positivo e o seu triplo caso seja negativo,\n",
        "imprimindo o resultado."
      ],
      "metadata": {
        "id": "U8o-HIfToAhI"
      }
    },
    {
      "cell_type": "code",
      "source": [
        "numero = int(input(\"Digite um número: \"))\n",
        "if numero > 0:\n",
        "    resultado = numero * 2\n",
        "    print(f\"O resultado do dobro de {numero} é {resultado}\")\n",
        "else:\n",
        "    resultado = numero * 3\n",
        "    print(f\"O resultado do triplo de {numero} é {resultado}\")\n"
      ],
      "metadata": {
        "id": "J7TWmT14Z1c4"
      },
      "execution_count": null,
      "outputs": []
    },
    {
      "cell_type": "markdown",
      "source": [
        "6) Escreva um algoritmo que lê dois valores booleanos (lógicos) e então determina se ambos são\n",
        "VERDADEIROS ou FALSOS."
      ],
      "metadata": {
        "id": "X0fCAGxtoex4"
      }
    },
    {
      "cell_type": "code",
      "source": [
        "def ler_booleano(mensagem):\n",
        "    while True:\n",
        "        valor = input(mensagem).strip().lower()\n",
        "        if valor == \"true\":\n",
        "            return True\n",
        "        elif valor == \"false\":\n",
        "            return False\n",
        "        else:\n",
        "            print(\"Entrada inválida! Digite 'True' ou 'False'.\")\n",
        "\n",
        "boleano1 = ler_booleano(\"Digite o primeiro valor booleano (True/False): \")\n",
        "boleano2 = ler_booleano(\"Digite o segundo valor booleano (True/False): \")\n",
        "\n",
        "if boleano1 and boleano2:\n",
        "    print(\"Ambos os valores são verdadeiros.\")\n",
        "elif boleano1 and not boleano2:\n",
        "    print(\"O primeiro booleano é verdadeiro e o segundo é falso.\")\n",
        "elif not boleano1 and boleano2:\n",
        "    print(\"O primeiro booleano é falso e o segundo é verdadeiro.\")\n",
        "else:\n",
        "    print(\"Ambos os valores são falsos.\")\n"
      ],
      "metadata": {
        "colab": {
          "base_uri": "https://localhost:8080/"
        },
        "id": "Ime1Eq3RaNI_",
        "outputId": "eba5d9b6-2d32-471a-dbf5-a33138df841d"
      },
      "execution_count": null,
      "outputs": [
        {
          "output_type": "stream",
          "name": "stdout",
          "text": [
            "Digite o primeiro valor booleano (True/False): True\n",
            "Digite o segundo valor booleano (True/False): False\n",
            "O primeiro booleano é verdadeiro e o segundo é falso.\n"
          ]
        }
      ]
    },
    {
      "cell_type": "markdown",
      "source": [
        "7) Faça um algoritmo que leia uma variável e some 5 caso seja par ou some 8 caso seja ímpar,\n",
        "imprimir o resultado desta operação."
      ],
      "metadata": {
        "id": "wtMqAKPZoEgt"
      }
    },
    {
      "cell_type": "code",
      "source": [
        "num1 = int(input(\"Digite o primeira número: \"))\n",
        "num2 = int(input(\"Digite o segundo número: \"))\n",
        "\n",
        "if num1 % 2 == 0:\n",
        "    resultado = num1 + 5\n",
        "    print(f\"O número é par e o resultado é {resultado}\")\n",
        "else:\n",
        "    resultado = num1 + 8\n",
        "    print(f\"O número é ímpar e o resultado é {resultado}\")\n"
      ],
      "metadata": {
        "id": "yjHLKHPRdiIe"
      },
      "execution_count": null,
      "outputs": []
    },
    {
      "cell_type": "markdown",
      "source": [
        "8) Escreva um algoritmo que leia três valores inteiros e diferentes e mostre-os em ordem\n",
        "decrescente."
      ],
      "metadata": {
        "id": "k3Pr09j6opSo"
      }
    },
    {
      "cell_type": "code",
      "source": [
        "def quicksort(array):\n",
        "  if len(array) < 2 :\n",
        "    return array\n",
        "  else :\n",
        "    pivo = array[0]\n",
        "    menores = [ i for i in array[1:] if i <= pivo]\n",
        "    maiores = [ i for i in array[1:] if i > pivo]\n",
        "    return quicksort(menores) + [pivo] + quicksort(maiores)\n",
        "\n",
        "numeros = []\n",
        "for i in range(3):\n",
        "    numero = int(input(f\"Digite o {i+1}º número: \"))\n",
        "    numeros.append(numero)\n",
        "\n",
        "maior = numeros[0]\n",
        "menor = numeros[0]\n",
        "\n",
        "for numero in numeros:\n",
        "  if numero > maior:\n",
        "    maior = numero\n",
        "\n",
        "for numero in numeros:\n",
        "  if numero < menor :\n",
        "    menor = numero\n",
        "\n",
        "print(f\"O maior número é : {maior}, e o menor é : {menor}\")\n",
        "print(f\"A lista é: {numeros}\")\n",
        "\n",
        "numeros_ordenados = quicksort(numeros)\n",
        "print(f\"A lista ordenada é: {numeros_ordenados}\")\n",
        "print(f\"A lisda em ordem decrescente é {numeros_ordenados[::-1]}\")\n",
        "\n",
        "\n"
      ],
      "metadata": {
        "id": "z4jul91ieCOm",
        "colab": {
          "base_uri": "https://localhost:8080/"
        },
        "outputId": "62dae911-5d30-41da-91f0-08656aba2543"
      },
      "execution_count": null,
      "outputs": [
        {
          "output_type": "stream",
          "name": "stdout",
          "text": [
            "Digite o 1º número: 4\n",
            "Digite o 2º número: 9\n",
            "Digite o 3º número: 1\n",
            "O maior número é : 9, e o menor é : 1\n",
            "A lista é: [4, 9, 1]\n",
            "A lista ordenada é: [1, 4, 9]\n",
            "A lisda em ordem decrescente é [9, 4, 1]\n"
          ]
        }
      ]
    },
    {
      "cell_type": "markdown",
      "source": [
        "9) Tendo como dados de entrada a altura e o sexo de uma pessoa, construa um algoritmo que\n",
        "calcule seu peso ideal, utilizando as seguintes fórmulas:\n",
        "● para homens: (72.7 * h) – 58;\n",
        "● para mulheres: (62.1 * h) – 44.7."
      ],
      "metadata": {
        "id": "4wAcRfaeoqB1"
      }
    },
    {
      "cell_type": "code",
      "source": [
        "altura = float(input(\"Digite sua altura: \"))\n",
        "peso = float(input(\"Digite seu peso: \"))\n",
        "genero = input(\"Digite seu gênero (M/F): \").upper()\n",
        "\n",
        "if genero == \"M\":\n",
        "    peso_ideal = ( 72.7 * altura) - 58\n",
        "    print(f\"Seu peso ideal é {peso_ideal}\")\n",
        "elif genero == \"F\":\n",
        "    peso_ideal = ( 62.1 * altura) - 44.7\n",
        "    print(f\"Seu peso ideal é {peso_ideal:.2f}\")"
      ],
      "metadata": {
        "colab": {
          "base_uri": "https://localhost:8080/"
        },
        "id": "gJ7ekWjD3pwF",
        "outputId": "12c2cb60-86c2-4fd6-b6c5-613268d64873"
      },
      "execution_count": null,
      "outputs": [
        {
          "output_type": "stream",
          "name": "stdout",
          "text": [
            "Digite sua altura: 1.65\n",
            "Digite seu peso: 53\n",
            "Digite seu gênero (M/F): f\n",
            "Seu peso ideal é 57.77\n"
          ]
        }
      ]
    },
    {
      "cell_type": "markdown",
      "source": [
        "10) O IMC – Indice de Massa Corporal é um critério da Organização Mundial de Saúde para dar\n",
        "umaindicação sobre a condição de peso de uma pessoa adulta. A fórmula é IMC = peso / ( altura )2\n",
        "\n",
        "Elabore um algoritmo que leia o peso e a altura de um adulto e mostre sua condição de acordo\n",
        "com a tabela abaixo.\n",
        "IMC em adultos Condição\n",
        "Abaixo de 18,5 Abaixo do peso\n",
        "Entre 18,5 e 25 Peso normal\n",
        "Entre 25 e 30 Acima do peso\n",
        "Acima de 30 obeso"
      ],
      "metadata": {
        "id": "x5onggIAoyf0"
      }
    },
    {
      "cell_type": "code",
      "source": [
        "peso = float(input(\"Digite seu peso: \"))\n",
        "altura = float(input(\"Digite sua altura: \"))\n",
        "imc = peso / (altura * 2)\n",
        "\n",
        "if imc < 18.5:\n",
        "    print(f\"Você está abaixo do peso! Seu IMC está em apenas {imc:.2f}\")\n",
        "elif imc >= 18.5 and imc < 25:\n",
        "    print(f\"Você está no peso normal! Seu IMC está em {imc:.2f}\")\n",
        "elif imc >= 25 and imc < 30:\n",
        "    print(f\"Você está acima do peso! Seu IMC está em {imc:.2f}\")\n",
        "else:\n",
        "    print(f\"Você está obeso! Seu IMC está em {imc:.2f}\")"
      ],
      "metadata": {
        "colab": {
          "base_uri": "https://localhost:8080/"
        },
        "id": "FDdKKzZw5sop",
        "outputId": "00309869-d22c-4e03-ad92-6c2f91f0908c"
      },
      "execution_count": null,
      "outputs": [
        {
          "output_type": "stream",
          "name": "stdout",
          "text": [
            "Digite seu peso: 53\n",
            "Digite sua altura: 1.65\n",
            "Você está abaixo do peso! Seu IMC está em apenas 16.06\n"
          ]
        }
      ]
    },
    {
      "cell_type": "markdown",
      "source": [
        "11) Elabore um algoritmo que calcule o que deve ser pago por um produto, considerando o preço\n",
        "normal deetiqueta e a escolha da condição de pagamento. Utilize os códigos da tabela a seguir\n",
        "para ler qual acondição de pagamento escolhida e efetuar o cálculo adequado.\n",
        "Código Condição de pagamento\n",
        "* 1 À vista em dinheiro ou cheque, recebe 10% de desconto\n",
        "* 2 À vista no cartão de crédito, recebe 15% de desconto\n",
        "* 3 Em duas vezes, preço normal de etiqueta sem juros\n",
        "* 4 Em duas vezes, preço normal de etiqueta mais juros de 10%"
      ],
      "metadata": {
        "id": "Rjm1f763oyrz"
      }
    },
    {
      "cell_type": "code",
      "source": [
        "valor = float(input(\"Digite o valor do produto: \"))\n",
        "pagamento = int(input(\"Digite o código da condição de pagamento: \\n (1) À vista em dinheiro ou cheque  \\n (2) À vista no cartão de crédito \\n (3) Em duas vezes \\n (4) Em mais de duas vezes \\n Selecione: \"))\n",
        "\n",
        "if pagamento == 1:\n",
        "    valor -= valor * 0.1\n",
        "  print(f\"Sua escolha de pagamento foi a {pagamento}° opção! O valor do produto a ser pago é de : {valor}\")\n",
        "elif pagamento == 2:\n",
        "    valor -= valor * 0.15\n",
        "    print(f\"Sua escolha de pagamento foi a {pagamento}° opção! O valor do produto a ser pago é de : {valor}\")\n",
        "\n",
        "elif valor == 3 :\n",
        "    print(f\"Sua escolha de pagamento foi a {pagamento}° opção! O valor do produto a ser pago é de : {valor}\")\n",
        "elif pagamento == 4:\n",
        "    valor += valor * 0.1\n",
        "    print(f\"Sua escolha de pagamento foi a {pagamento}° opção! O valor do produto a ser pago é de : {valor}\")\n",
        "else:\n",
        "    print(\"Opção inválida! Tente novamente!\")\n",
        "\n"
      ],
      "metadata": {
        "colab": {
          "base_uri": "https://localhost:8080/"
        },
        "id": "kpLtg21t7JvW",
        "outputId": "563251f7-20fb-4e9a-a6de-db9389d326cf"
      },
      "execution_count": null,
      "outputs": [
        {
          "output_type": "stream",
          "name": "stdout",
          "text": [
            "Digite o valor do produto: 20\n",
            "Digite o código da condição de pagamento: \n",
            " (1) À vista em dinheiro ou cheque  \n",
            " (2) À vista no cartão de crédito \n",
            " (3) Em duas vezes \n",
            " (4) Em mais de duas vezes \n",
            " Selecione: 6\n",
            "Opção inválida! Tente novamente!\n",
            "Sua escolha de pagamento foi a 6° opção! O valor do produto a ser pago é de : 20.0\n"
          ]
        }
      ]
    },
    {
      "cell_type": "markdown",
      "source": [
        "12) Escreva um algoritmo que leia o número de identificação, as 3 notas obtidas por um aluno nas\n",
        "3 verificações e a média dos exercícios que fazem parte da avaliação, e calcule a média de\n",
        "aproveitamento, usando a fórmula:\n",
        "MA := (nota1 + nota 2 * 2 + nota 3 * 3 + ME)/7\n",
        "A atribuição dos conceitos obedece a tabela abaixo. O algoritmo deve escrever\n",
        "* o número do aluno,\n",
        "* suas notas,\n",
        "* a média dos exercícios, a média de aproveitamento,\n",
        "* o conceito correspondente e\n",
        "* a mensagem 'Aprovado' se o conceito for A, B ou C,\n",
        "* e 'Reprovado' se o conceito for D ou E.\n",
        "Média de aproveitamento Conceito\n",
        "* (>= 90 A)\n",
        "* (>= 75 e < 90 B)\n",
        "* (>= 60 e < 75 C)\n",
        "* (>= 40 e < 60 D)\n",
        "* (< 40 E)"
      ],
      "metadata": {
        "id": "k-I-vBjto7gZ"
      }
    },
    {
      "cell_type": "code",
      "source": [
        "numero_identificacao = input(\"Digite o número de identificação do aluno: \")\n",
        "\n",
        "notas = []\n",
        "for i in range(3):\n",
        "    nota = float(input(f\"Digite a nota {i+1}: \"))\n",
        "    notas.append(nota)\n",
        "\n",
        "media_exercicios = float(input(\"Digite a média dos exercícios: \"))\n",
        "\n",
        "media_aproveitamento = (notas[0] + (notas[1] * 2 ) + (notas[2] * 3 )+ media_exercicios) / 7\n",
        "\n",
        "if media_aproveitamento >= 9.0 :\n",
        "    conceito = \"A\"\n",
        "elif media_aproveitamento >= 7.5 and media_aproveitamento < 9.0 :\n",
        "    conceito = \"B\"\n",
        "elif media_aproveitamento >= 6.0 and media_aproveitamento < 7.5 :\n",
        "    conceito = \"C\"\n",
        "elif media_aproveitamento >= 4.0 and media_aproveitamento < 6.0 :\n",
        "    conceito = \"D\"\n",
        "else:\n",
        "    conceito = \"E\"\n",
        "\n",
        "if conceito in [\"D\",\"E\"]:\n",
        "    mensagem = \"Reprovado\"\n",
        "else:\n",
        "    mensagem = \"Aprovado\"\n",
        "\n",
        "print(f\"O número de identificação do aluno é: {numero_identificacao}\")\n",
        "print(f\"As notas do aluno são: {notas}\")\n",
        "print(f\"A média de aproveitamento do aluno é: {media_aproveitamento:.2f}\")\n",
        "print(f\"A média dos exercícios do aluno é: {media_exercicios}\")\n",
        "print(f\"O conceito do aluno é: {conceito}\")\n",
        "print(f\"O aluno está: {mensagem}\")"
      ],
      "metadata": {
        "colab": {
          "base_uri": "https://localhost:8080/"
        },
        "id": "tOmLPCsfJMO4",
        "outputId": "a61d3478-c804-4d6a-bf62-f203874ddd68"
      },
      "execution_count": null,
      "outputs": [
        {
          "output_type": "stream",
          "name": "stdout",
          "text": [
            "Digite o número de identificação do aluno: 10\n",
            "Digite a nota 1: 10\n",
            "Digite a nota 2: 2\n",
            "Digite a nota 3: 10\n",
            "Digite a média dos exercícios: 10\n",
            "O número de identificação do aluno é: 10\n",
            "As notas do aluno são: [10.0, 2.0, 10.0]\n",
            "A média de aproveitamento do aluno é: 7.71\n",
            "A média dos exercícios do aluno é: 10.0\n",
            "O conceito do aluno é: B\n",
            "O aluno está: Aprovado\n"
          ]
        }
      ]
    },
    {
      "cell_type": "markdown",
      "source": [
        "________________________________________________________________________________________________________________________________________________________________"
      ],
      "metadata": {
        "id": "4DT07qtCnnwO"
      }
    }
  ]
}